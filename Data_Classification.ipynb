{
  "nbformat": 4,
  "nbformat_minor": 0,
  "metadata": {
    "colab": {
      "provenance": [],
      "authorship_tag": "ABX9TyNJD1dEZm0NZHnRu7tl3oft",
      "include_colab_link": true
    },
    "kernelspec": {
      "name": "python3",
      "display_name": "Python 3"
    },
    "language_info": {
      "name": "python"
    }
  },
  "cells": [
    {
      "cell_type": "markdown",
      "metadata": {
        "id": "view-in-github",
        "colab_type": "text"
      },
      "source": [
        "<a href=\"https://colab.research.google.com/github/adysaptr/Data-Classification-Using-IBMGranite/blob/main/Data_Classification.ipynb\" target=\"_parent\"><img src=\"https://colab.research.google.com/assets/colab-badge.svg\" alt=\"Open In Colab\"/></a>"
      ]
    },
    {
      "cell_type": "markdown",
      "source": [
        "# **Packages Instalation**"
      ],
      "metadata": {
        "id": "v3LrGn8yxAEt"
      }
    },
    {
      "cell_type": "code",
      "source": [
        "# Instal paket yang diperlukan\n",
        "!pip install -q langchain_community\n",
        "!pip install -q replicate"
      ],
      "metadata": {
        "id": "KkZT57iDq6EE"
      },
      "execution_count": 26,
      "outputs": []
    },
    {
      "cell_type": "markdown",
      "source": [
        "# **Make Random Review fot Dataset**"
      ],
      "metadata": {
        "id": "QMK72onnxKvs"
      }
    },
    {
      "cell_type": "markdown",
      "source": [
        "Copy the results into your notes or text editor, as they will be used as customer reviews in the customer review classification section."
      ],
      "metadata": {
        "id": "7QV24FVOxUVc"
      }
    },
    {
      "cell_type": "code",
      "source": [
        "import random\n",
        "\n",
        "# Daftar komponen untuk membuat review acak\n",
        "sapaan = [\n",
        "    \"Saya sangat puas dengan\",\n",
        "    \"Pelayanan yang diberikan cukup\",\n",
        "    \"Secara keseluruhan, saya merasa\",\n",
        "    \"Pengalaman saya kali ini\",\n",
        "    \"Tidak mengecewakan, karena\",\n",
        "    \"Sangat mengecewakan bahwa\",\n",
        "    \"Luar biasa! Pelayanan mereka\",\n",
        "    \"Sayang sekali, karena\",\n",
        "    \"Saya terkesan dengan\",\n",
        "    \"Cukup standar, tapi\"\n",
        "]\n",
        "\n",
        "aspek_pelayanan = [\n",
        "    \"pelayanan awak kabin\",\n",
        "    \"keramahan staf bandara\",\n",
        "    \"ketersediaan makanan dan minuman\",\n",
        "    \"kebersihan kabin\",\n",
        "    \"ketepatan waktu penerbangan\",\n",
        "    \"kenyamanan kursi dan ruang kaki\",\n",
        "    \"layanan hiburan dalam pesawat\",\n",
        "    \"proses check-in dan boarding\",\n",
        "    \"respons terhadap penumpang\",\n",
        "    \"manajemen delay atau pembatalan\"\n",
        "]\n",
        "\n",
        "kualitas = [\n",
        "    \"sangat profesional dan ramah.\",\n",
        "    \"cukup baik, meski ada sedikit keterlambatan.\",\n",
        "    \"luar biasa dan membuat perjalanan nyaman.\",\n",
        "    \"biasa saja, tidak ada yang istimewa.\",\n",
        "    \"kurang memuaskan karena pelayanan lambat.\",\n",
        "    \"sangat buruk dan perlu diperbaiki.\",\n",
        "    \"sangat memuaskan dan patut diapresiasi.\",\n",
        "    \"tidak sesuai harapan, terutama saat darurat.\",\n",
        "    \"baik, tapi masih ada ruang untuk peningkatan.\",\n",
        "    \"sangat efisien dan terorganisir dengan baik.\"\n",
        "]\n",
        "\n",
        "# Fungsi untuk menghasilkan review acak\n",
        "def generate_airline_review():\n",
        "    review = f\"{random.choice(sapaan)} {random.choice(aspek_pelayanan)} {random.choice(kualitas)}\"\n",
        "    return review\n",
        "\n",
        "# Hasilkan 5 review acak\n",
        "print(\"📝 Review Acak Tentang Pelayanan Pesawat Terbang:\\n\")\n",
        "for i in range(10):\n",
        "    print(f'\"{generate_airline_review()}\"')"
      ],
      "metadata": {
        "colab": {
          "base_uri": "https://localhost:8080/"
        },
        "id": "cVblnt6zuKfg",
        "outputId": "e019284c-49c3-49c4-9648-9040602c1f77"
      },
      "execution_count": 37,
      "outputs": [
        {
          "output_type": "stream",
          "name": "stdout",
          "text": [
            "📝 Review Acak Tentang Pelayanan Pesawat Terbang:\n",
            "\n",
            "\"Saya sangat puas dengan ketersediaan makanan dan minuman tidak sesuai harapan, terutama saat darurat.\"\n",
            "\"Secara keseluruhan, saya merasa kenyamanan kursi dan ruang kaki sangat memuaskan dan patut diapresiasi.\"\n",
            "\"Saya terkesan dengan layanan hiburan dalam pesawat sangat profesional dan ramah.\"\n",
            "\"Pengalaman saya kali ini kenyamanan kursi dan ruang kaki sangat buruk dan perlu diperbaiki.\"\n",
            "\"Pelayanan yang diberikan cukup layanan hiburan dalam pesawat baik, tapi masih ada ruang untuk peningkatan.\"\n",
            "\"Cukup standar, tapi respons terhadap penumpang sangat profesional dan ramah.\"\n",
            "\"Tidak mengecewakan, karena pelayanan awak kabin kurang memuaskan karena pelayanan lambat.\"\n",
            "\"Sayang sekali, karena ketepatan waktu penerbangan luar biasa dan membuat perjalanan nyaman.\"\n",
            "\"Saya sangat puas dengan proses check-in dan boarding sangat memuaskan dan patut diapresiasi.\"\n",
            "\"Saya terkesan dengan layanan hiburan dalam pesawat luar biasa dan membuat perjalanan nyaman.\"\n"
          ]
        }
      ]
    },
    {
      "cell_type": "markdown",
      "source": [
        "# **Impor IBM Granite Models**"
      ],
      "metadata": {
        "id": "Z3CSXZ4nx42V"
      }
    },
    {
      "cell_type": "code",
      "source": [
        "from langchain_community.llms import Replicate\n",
        "import os\n",
        "from google.colab import userdata\n",
        "\n",
        "# Set the API token\n",
        "api_token = userdata.get('api_token')\n",
        "os.environ[\"REPLICATE_API_TOKEN\"] = api_token\n",
        "\n",
        "# Model setup\n",
        "model = \"ibm-granite/granite-3.2-8b-instruct\"\n",
        "output = Replicate(\n",
        "  model=model,\n",
        "  replicate_api_token=api_token,\n",
        ")"
      ],
      "metadata": {
        "id": "-I__T8yOsn8e"
      },
      "execution_count": 29,
      "outputs": []
    },
    {
      "cell_type": "markdown",
      "source": [
        "# **Classifiy Customers Reviews using IBM Granite Models**"
      ],
      "metadata": {
        "id": "YNm990-9yB4V"
      }
    },
    {
      "cell_type": "code",
      "source": [
        "# Define the customer reviews\n",
        "customer_reviews = [\n",
        "  \"Saya sangat puas dengan ketersediaan makanan dan minuman tidak sesuai harapan, terutama saat darurat.\",\n",
        "  \"Secara keseluruhan, saya merasa kenyamanan kursi dan ruang kaki sangat memuaskan dan patut diapresiasi.\",\n",
        "  \"Saya terkesan dengan layanan hiburan dalam pesawat sangat profesional dan ramah.\",\n",
        "  \"Pengalaman saya kali ini kenyamanan kursi dan ruang kaki sangat buruk dan perlu diperbaiki.\",\n",
        "  \"Pelayanan yang diberikan cukup layanan hiburan dalam pesawat baik, tapi masih ada ruang untuk peningkatan.\",\n",
        "  \"Cukup standar, tapi respons terhadap penumpang sangat profesional dan ramah.\",\n",
        "  \"Tidak mengecewakan, karena pelayanan awak kabin kurang memuaskan karena pelayanan lambat.\",\n",
        "  \"Sayang sekali, karena ketepatan waktu penerbangan luar biasa dan membuat perjalanan nyaman.\",\n",
        "  \"Saya sangat puas dengan proses check-in dan boarding sangat memuaskan dan patut diapresiasi.\",\n",
        "  \"Saya terkesan dengan layanan hiburan dalam pesawat luar biasa dan membuat perjalanan nyaman.\",\n",
        "]\n",
        "\n",
        "# Refine the prompt to include reviews\n",
        "reviews_text = \"\\n\".join([f\"Review {i+1}: {review}\" for i, review\n",
        "in enumerate(customer_reviews)])\n",
        "\n",
        "prompt = f\"\"\"\n",
        "Klasifikasikan dan kelompokkan hasil ulasan pelanggan tersebut menjadi ulasan : Positive, Negative, atau Normal dan tampilkan ulasannya\n",
        "\n",
        "{reviews_text}\n",
        "\"\"\"\n",
        "# Invoke the model with the example prompt\n",
        "response = output.invoke(prompt)\n",
        "\n",
        "# Print the response\n",
        "print(\"Granite Model Response:\\n\")\n",
        "\n",
        "print(response)"
      ],
      "metadata": {
        "colab": {
          "base_uri": "https://localhost:8080/"
        },
        "id": "92rcFO9psyRO",
        "outputId": "ac18d7b8-8140-422b-b22a-ed9a4e6a61e4"
      },
      "execution_count": 39,
      "outputs": [
        {
          "output_type": "stream",
          "name": "stdout",
          "text": [
            "Granite Model Response:\n",
            "\n",
            "Positive:\n",
            "1. Saya sangat puas dengan ketersediaan makanan dan minuman tidak sesuai harapan, terutama saat darurat. (Review 1)\n",
            "2. Secara keseluruhan, saya merasa kenyamanan kursi dan ruang kaki sangat memuaskan dan patut diapresiasi. (Review 2)\n",
            "3. Saya terkesan dengan layanan hiburan dalam pesawat sangat profesional dan ramah. (Review 3)\n",
            "4. Saya sangat puas dengan proses check-in dan boarding sangat memuaskan dan patut diapresiasi. (Review 9)\n",
            "5. Saya terkesan dengan layanan hiburan dalam pesawat luar biasa dan membuat perjalanan nyaman. (Review 10)\n",
            "\n",
            "Negative:\n",
            "1. Pengalaman saya kali ini kenyamanan kursi dan ruang kaki sangat buruk dan perlu diperbaiki. (Review 4)\n",
            "2. Tidak mengecewakan, karena pelayanan awak kabin kurang memuaskan karena pelayanan lambat. (Review 7)\n",
            "3. Sayang sekali, karena ketepatan waktu penerbangan luar biasa dan membuat perjalanan nyaman. (Review 8)\n",
            "\n",
            "Normal:\n",
            "1. Pelayanan yang diberikan cukup layanan hiburan dalam pesawat baik, tapi masih ada ruang untuk peningkatan. (Review 5)\n",
            "2. Cukup standar, tapi respons terhadap penumpang sangat profesional dan ramah. (Review 6)\n"
          ]
        }
      ]
    }
  ]
}